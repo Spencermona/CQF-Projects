{
 "cells": [
  {
   "cell_type": "code",
   "execution_count": 14,
   "id": "1d2e4215",
   "metadata": {},
   "outputs": [
    {
     "name": "stdout",
     "output_type": "stream",
     "text": [
      "The watermark extension is already loaded. To reload it, use:\n",
      "  %reload_ext watermark\n",
      "Author: Kannan Singaravelu\n",
      "\n",
      "Last updated: 2023-08-23\n",
      "\n",
      "Python implementation: CPython\n",
      "Python version       : 3.9.12\n",
      "IPython version      : 8.2.0\n",
      "\n",
      "Compiler    : MSC v.1916 64 bit (AMD64)\n",
      "OS          : Windows\n",
      "Release     : 10\n",
      "Machine     : AMD64\n",
      "Processor   : Intel64 Family 6 Model 158 Stepping 13, GenuineIntel\n",
      "CPU cores   : 8\n",
      "Architecture: 64bit\n",
      "\n",
      "numpy: 1.21.5\n",
      "\n"
     ]
    }
   ],
   "source": [
    "#Data Manipulation\n",
    "from numpy import *\n",
    "from datetime import datetime\n",
    "\n",
    "from src.blackscholes import BS\n",
    "from tabulate import tabulate\n",
    "\n",
    "from watermark import watermark\n",
    "%load_ext watermark\n",
    "%watermark -a \"Kannan Singaravelu\" -u -d -v -m -iv"
   ]
  },
  {
   "cell_type": "markdown",
   "id": "779a4a0a",
   "metadata": {},
   "source": [
    "### Newton Method\n"
   ]
  },
  {
   "cell_type": "code",
   "execution_count": 23,
   "id": "fd1abe9c",
   "metadata": {},
   "outputs": [],
   "source": [
    "def newton_iv(className, spot, strike, rate, dte, callprice=None, putprice=None):\n",
    "    \n",
    "    x0 = 1                                      # initial guess\n",
    "    h = 0.001                                   # step size \n",
    "    tolerance = 1e-7                            # 7-digit accuracy is desired\n",
    "    epsilon = 1e-14                             # do not divide by a number smaller than this, some kind of error / floor\n",
    "    maxiter = 200                               # maximum number of iterations to execute\n",
    "    \n",
    "    # function whose root we are trying to find\n",
    "    # f(x) = Black Scholes Call price - Market Price - defining the f(x) here\n",
    "    if callprice:\n",
    "        f = lambda x: eval(className)(spot, strike, rate, dte, x).callPrice - callprice\n",
    "    if putprice:\n",
    "        f = lambda x: eval(className)(spot, strike, rate, dte, x).putPrice - putprice\n",
    "        \n",
    "    for i in range(maxiter):\n",
    "        y = f(x0)                               # starting with initial guess\n",
    "        yprime = (f(x0+h) - f(x0-h))/(2*h)      # central difference, the derivative of the function\n",
    "        \n",
    "        if abs(yprime)<epsilon:                 # stop if the denominator is too small\n",
    "            break                              \n",
    "        x1 = x0 - y/yprime                      # perform Newton's computation\n",
    "        \n",
    "        if (abs(x1-x0) <= tolerance*abs(x1)):   # stop when the result is within the desired tolerance\n",
    "            break\n",
    "        x0=x1                                   # update x0 to start the process again\n",
    "        \n",
    "    return x1                                   #x1 is a solution within tolerance and maximum numb"
   ]
  },
  {
   "cell_type": "code",
   "execution_count": 24,
   "id": "da0eba43",
   "metadata": {},
   "outputs": [
    {
     "data": {
      "text/plain": [
       "0.17657213831399154"
      ]
     },
     "execution_count": 24,
     "metadata": {},
     "output_type": "execute_result"
    }
   ],
   "source": [
    "#newton iv\n",
    "newton_iv('BS',100,100,0.02,1,callprice=8)"
   ]
  },
  {
   "cell_type": "code",
   "execution_count": 27,
   "id": "f390c73a",
   "metadata": {},
   "outputs": [
    {
     "data": {
      "text/plain": [
       "8.916037278572539"
      ]
     },
     "execution_count": 27,
     "metadata": {},
     "output_type": "execute_result"
    }
   ],
   "source": [
    "opt = BS(100,100,0.02,1,0.2)\n",
    "opt.callPrice"
   ]
  },
  {
   "cell_type": "code",
   "execution_count": 30,
   "id": "56c3359d",
   "metadata": {},
   "outputs": [
    {
     "data": {
      "text/plain": [
       "0.20000000000000015"
      ]
     },
     "execution_count": 30,
     "metadata": {},
     "output_type": "execute_result"
    }
   ],
   "source": [
    "newton_iv('BS',100,100,0.02,1,callprice=opt.callPrice)"
   ]
  },
  {
   "cell_type": "markdown",
   "id": "67da331c",
   "metadata": {},
   "source": [
    "### Bisection Method"
   ]
  },
  {
   "cell_type": "code",
   "execution_count": 31,
   "id": "6d04c229",
   "metadata": {},
   "outputs": [],
   "source": [
    "#Bisection Method\n",
    "def bisection_iv(className,spot,strike,rate,dte,callprice=None,putprice=None,high=500.0,low=0.0):\n",
    "    \n",
    "    #this is market price\n",
    "    if callprice:\n",
    "        price = callprice\n",
    "    if putprice and not callprice:\n",
    "        price = putprice\n",
    "        \n",
    "    tolerance = 1e-7\n",
    "    \n",
    "    for i in range(1000):\n",
    "        mid = (high + low) / 2                   # c = (a+b)/2\n",
    "        if mid <tolerance:\n",
    "            mid = tolerance\n",
    "            \n",
    "        if callprice:\n",
    "            estimate = eval(className)(spot,strike,rate,dte,mid).callPrice  #Balck Scholes price\n",
    "        if putprice:\n",
    "            estimate = eval(className)(spot,strike,rate,dte,mid).putPrice\n",
    "            \n",
    "        if round(estimate,6) == price:\n",
    "            break\n",
    "        elif estimate > price:\n",
    "            high = mid              #replace c with b|b = c\n",
    "        elif estimate < price:\n",
    "            low = mid               #replace c with a|a = c\n",
    "            \n",
    "    return mid"
   ]
  },
  {
   "cell_type": "code",
   "execution_count": 33,
   "id": "7d2a0942",
   "metadata": {},
   "outputs": [
    {
     "data": {
      "text/plain": [
       "0.17657213902566582"
      ]
     },
     "execution_count": 33,
     "metadata": {},
     "output_type": "execute_result"
    }
   ],
   "source": [
    "#bisection iv\n",
    "bisection_iv('BS',100,100,0.02,1,callprice=8.)"
   ]
  },
  {
   "cell_type": "code",
   "execution_count": 36,
   "id": "b36ad97d",
   "metadata": {},
   "outputs": [
    {
     "data": {
      "text/plain": [
       "0.20000000000000007"
      ]
     },
     "execution_count": 36,
     "metadata": {},
     "output_type": "execute_result"
    }
   ],
   "source": [
    "bisection_iv('BS',100,100,0.02,1,callprice=8.916037278572539)"
   ]
  },
  {
   "cell_type": "markdown",
   "id": "493818fc",
   "metadata": {},
   "source": [
    "### BS Implied Volatility"
   ]
  },
  {
   "cell_type": "code",
   "execution_count": 37,
   "id": "6b051fb2",
   "metadata": {},
   "outputs": [
    {
     "ename": "ModuleNotFoundError",
     "evalue": "No module named 'vol'",
     "output_type": "error",
     "traceback": [
      "\u001b[1;31m---------------------------------------------------------------------------\u001b[0m",
      "\u001b[1;31mModuleNotFoundError\u001b[0m                       Traceback (most recent call last)",
      "Input \u001b[1;32mIn [37]\u001b[0m, in \u001b[0;36m<cell line: 1>\u001b[1;34m()\u001b[0m\n\u001b[1;32m----> 1\u001b[0m \u001b[38;5;28;01mfrom\u001b[39;00m \u001b[38;5;21;01mvol\u001b[39;00m \u001b[38;5;28;01mimport\u001b[39;00m BS\n",
      "\u001b[1;31mModuleNotFoundError\u001b[0m: No module named 'vol'"
     ]
    }
   ],
   "source": [
    "from vol import BS"
   ]
  },
  {
   "cell_type": "code",
   "execution_count": 38,
   "id": "cee4bf3c",
   "metadata": {},
   "outputs": [
    {
     "ename": "TypeError",
     "evalue": "__init__() got an unexpected keyword argument 'callprice'",
     "output_type": "error",
     "traceback": [
      "\u001b[1;31m---------------------------------------------------------------------------\u001b[0m",
      "\u001b[1;31mTypeError\u001b[0m                                 Traceback (most recent call last)",
      "Input \u001b[1;32mIn [38]\u001b[0m, in \u001b[0;36m<cell line: 2>\u001b[1;34m()\u001b[0m\n\u001b[0;32m      1\u001b[0m \u001b[38;5;66;03m# Initialize option\u001b[39;00m\n\u001b[1;32m----> 2\u001b[0m option \u001b[38;5;241m=\u001b[39m \u001b[43mBS\u001b[49m\u001b[43m(\u001b[49m\u001b[38;5;241;43m100\u001b[39;49m\u001b[43m,\u001b[49m\u001b[38;5;241;43m100\u001b[39;49m\u001b[43m,\u001b[49m\u001b[38;5;241;43m0.05\u001b[39;49m\u001b[43m,\u001b[49m\u001b[38;5;241;43m1\u001b[39;49m\u001b[43m,\u001b[49m\u001b[38;5;241;43m0.2\u001b[39;49m\u001b[43m,\u001b[49m\u001b[43m \u001b[49m\u001b[43mcallprice\u001b[49m\u001b[38;5;241;43m=\u001b[39;49m\u001b[38;5;241;43m8\u001b[39;49m\u001b[43m)\u001b[49m\n\u001b[0;32m      4\u001b[0m header \u001b[38;5;241m=\u001b[39m [\u001b[38;5;124m'\u001b[39m\u001b[38;5;124mOption Price\u001b[39m\u001b[38;5;124m'\u001b[39m, \u001b[38;5;124m'\u001b[39m\u001b[38;5;124mDelta\u001b[39m\u001b[38;5;124m'\u001b[39m, \u001b[38;5;124m'\u001b[39m\u001b[38;5;124mGamma\u001b[39m\u001b[38;5;124m'\u001b[39m, \u001b[38;5;124m'\u001b[39m\u001b[38;5;124mTheta\u001b[39m\u001b[38;5;124m'\u001b[39m, \u001b[38;5;124m'\u001b[39m\u001b[38;5;124mVega\u001b[39m\u001b[38;5;124m'\u001b[39m, \u001b[38;5;124m'\u001b[39m\u001b[38;5;124mRho\u001b[39m\u001b[38;5;124m'\u001b[39m, \u001b[38;5;124m'\u001b[39m\u001b[38;5;124mIV\u001b[39m\u001b[38;5;124m'\u001b[39m]\n\u001b[0;32m      5\u001b[0m table \u001b[38;5;241m=\u001b[39m [[option\u001b[38;5;241m.\u001b[39mcallPrice, option\u001b[38;5;241m.\u001b[39mcallDelta, option\u001b[38;5;241m.\u001b[39mgamma, option\u001b[38;5;241m.\u001b[39mcallTheta, option\u001b[38;5;241m.\u001b[39mvega, option\u001b[38;5;241m.\u001b[39mcallRho, option\u001b[38;5;241m.\u001b[39mimpvol]]\n",
      "\u001b[1;31mTypeError\u001b[0m: __init__() got an unexpected keyword argument 'callprice'"
     ]
    }
   ],
   "source": [
    "# Initialize option\n",
    "option = BS(100,100,0.05,1,0.2, callprice=8)\n",
    "\n",
    "header = ['Option Price', 'Delta', 'Gamma', 'Theta', 'Vega', 'Rho', 'IV']\n",
    "table = [[option.callPrice, option.callDelta, option.gamma, option.callTheta, option.vega, option.callRho, option.impvol]]\n",
    "\n",
    "print(tabulate(table,header))"
   ]
  },
  {
   "cell_type": "code",
   "execution_count": null,
   "id": "6a8e4e44",
   "metadata": {},
   "outputs": [],
   "source": []
  }
 ],
 "metadata": {
  "kernelspec": {
   "display_name": "Python 3 (ipykernel)",
   "language": "python",
   "name": "python3"
  },
  "language_info": {
   "codemirror_mode": {
    "name": "ipython",
    "version": 3
   },
   "file_extension": ".py",
   "mimetype": "text/x-python",
   "name": "python",
   "nbconvert_exporter": "python",
   "pygments_lexer": "ipython3",
   "version": "3.9.12"
  }
 },
 "nbformat": 4,
 "nbformat_minor": 5
}
